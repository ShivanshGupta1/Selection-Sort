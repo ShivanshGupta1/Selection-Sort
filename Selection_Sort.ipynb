{
  "nbformat": 4,
  "nbformat_minor": 0,
  "metadata": {
    "colab": {
      "name": "Selection Sort.ipynb",
      "provenance": [],
      "authorship_tag": "ABX9TyNz0tsnDgkeYAisOeUnNS2u",
      "include_colab_link": true
    },
    "kernelspec": {
      "name": "python3",
      "display_name": "Python 3"
    },
    "language_info": {
      "name": "python"
    }
  },
  "cells": [
    {
      "cell_type": "markdown",
      "metadata": {
        "id": "view-in-github",
        "colab_type": "text"
      },
      "source": [
        "<a href=\"https://colab.research.google.com/github/ShivanshGupta1/Selection-Sort/blob/main/Selection_Sort.ipynb\" target=\"_parent\"><img src=\"https://colab.research.google.com/assets/colab-badge.svg\" alt=\"Open In Colab\"/></a>"
      ]
    },
    {
      "cell_type": "code",
      "metadata": {
        "id": "BD2GttBN3v-k"
      },
      "source": [
        "#Selection Sort\n",
        "userList = eval(input(\"Your List: \"))\n",
        "minValue = userList[0]\n",
        "minIndex = 0\n",
        "runValue = 0\n",
        "for run in range(0, len(userList)-1):\n",
        "  for check in range(run+1, len(userList)):\n",
        "    if userList[check]<userList[run]:\n",
        "      minValue = userList[check]\n",
        "      minIndex = check  \n",
        "      runValue = userList[run]\n",
        "      userList[run] = minValue\n",
        "      userList[minIndex] = runValue\n",
        "print(userList) "
      ],
      "execution_count": null,
      "outputs": []
    }
  ]
}